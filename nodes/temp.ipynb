{
 "cells": [
  {
   "cell_type": "code",
   "execution_count": 1,
   "metadata": {},
   "outputs": [],
   "source": [
    "from collections import defaultdict\n",
    "import os\n",
    "import json\n",
    "\n",
    "def read_dir(data_dir):\n",
    "    clients = []\n",
    "    groups = []\n",
    "    data = defaultdict(lambda: None)\n",
    "\n",
    "    files = os.listdir(data_dir)\n",
    "    files = [f for f in files if f.endswith('.json')]\n",
    "    for f in files:\n",
    "        file_path = os.path.join(data_dir, f)\n",
    "        with open(file_path, 'r') as inf:\n",
    "            cdata = json.load(inf)\n",
    "        clients.extend(cdata['users'])\n",
    "        if 'hierarchies' in cdata:\n",
    "            groups.extend(cdata['hierarchies'])\n",
    "        data.update(cdata['user_data'])\n",
    "\n",
    "    clients = list(sorted(data.keys()))\n",
    "    return clients, groups, data\n",
    "\n",
    "\n",
    "def read_data(train_data_dir, test_data_dir):\n",
    "    train_clients, train_groups, train_data = read_dir(train_data_dir)\n",
    "    test_clients, test_groups, test_data = read_dir(test_data_dir)\n",
    "\n",
    "    assert train_clients == test_clients\n",
    "    assert train_groups == test_groups\n",
    "\n",
    "    return train_clients, train_groups, train_data, test_data\n",
    "\n",
    "_, _, train_data, test_data = read_data(\"data/femnist/train\", \"data/femnist/test\")"
   ]
  },
  {
   "cell_type": "code",
   "execution_count": 2,
   "metadata": {},
   "outputs": [],
   "source": [
    "for i in range(9):\n",
    "    train_file = open(f\"./data/femnist/train/node{i}.json\", \"w\")\n",
    "    train_file.write(json.dumps(train_data[str(i)]))\n",
    "    test_file = open(f\"./data/femnist/test/node{i}.json\", \"w\")\n",
    "    test_file.write(json.dumps(test_data[str(i)]))"
   ]
  }
 ],
 "metadata": {
  "kernelspec": {
   "display_name": "data-science",
   "language": "python",
   "name": "python3"
  },
  "language_info": {
   "codemirror_mode": {
    "name": "ipython",
    "version": 3
   },
   "file_extension": ".py",
   "mimetype": "text/x-python",
   "name": "python",
   "nbconvert_exporter": "python",
   "pygments_lexer": "ipython3",
   "version": "3.12.4"
  }
 },
 "nbformat": 4,
 "nbformat_minor": 2
}
